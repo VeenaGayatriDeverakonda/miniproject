{
 "cells": [
  {
   "cell_type": "markdown",
   "metadata": {},
   "source": [
    "# Machine Learning Engineer Nanodegree"
   ]
  },
  {
   "cell_type": "markdown",
   "metadata": {},
   "source": [
    "## Imports and setup"
   ]
  },
  {
   "cell_type": "code",
   "execution_count": 1,
   "metadata": {},
   "outputs": [],
   "source": [
    "import nltk\n",
    "nltk.download('wordcloud')"
   ]
  },
  {
   "cell_type": "code",
   "execution_count": 2,
   "metadata": {},
   "outputs": [
    {
     "ename": "ModuleNotFoundError",
     "evalue": "No module named 'wordcloud'",
     "output_type": "error",
     "traceback": [
      "\u001b[1;31m---------------------------------------------------------------------------\u001b[0m",
      "\u001b[1;31mModuleNotFoundError\u001b[0m                       Traceback (most recent call last)",
      "\u001b[1;32mC:\\Users\\DEEKSH~1\\AppData\\Local\\Temp/ipykernel_4368/3671723179.py\u001b[0m in \u001b[0;36m<module>\u001b[1;34m\u001b[0m\n\u001b[0;32m     18\u001b[0m                              confusion_matrix, f1_score)\n\u001b[0;32m     19\u001b[0m \u001b[1;32mfrom\u001b[0m \u001b[0msklearn\u001b[0m\u001b[1;33m.\u001b[0m\u001b[0mnaive_bayes\u001b[0m \u001b[1;32mimport\u001b[0m \u001b[0mMultinomialNB\u001b[0m\u001b[1;33m\u001b[0m\u001b[1;33m\u001b[0m\u001b[0m\n\u001b[1;32m---> 20\u001b[1;33m \u001b[1;32mfrom\u001b[0m \u001b[0mwordcloud\u001b[0m \u001b[1;32mimport\u001b[0m \u001b[0mSTOPWORDS\u001b[0m\u001b[1;33m,\u001b[0m \u001b[0mWordCloud\u001b[0m\u001b[1;33m\u001b[0m\u001b[1;33m\u001b[0m\u001b[0m\n\u001b[0m\u001b[0;32m     21\u001b[0m \u001b[1;32mfrom\u001b[0m \u001b[0msklearn\u001b[0m\u001b[1;33m.\u001b[0m\u001b[0mmodel_selection\u001b[0m \u001b[1;32mimport\u001b[0m \u001b[0mGridSearchCV\u001b[0m\u001b[1;33m\u001b[0m\u001b[1;33m\u001b[0m\u001b[0m\n\u001b[0;32m     22\u001b[0m \u001b[1;32mfrom\u001b[0m \u001b[0msklearn\u001b[0m\u001b[1;33m.\u001b[0m\u001b[0mmodel_selection\u001b[0m \u001b[1;32mimport\u001b[0m \u001b[0mtrain_test_split\u001b[0m\u001b[1;33m\u001b[0m\u001b[1;33m\u001b[0m\u001b[0m\n",
      "\u001b[1;31mModuleNotFoundError\u001b[0m: No module named 'wordcloud'"
     ]
    }
   ],
   "source": [
    "# Print stuff inline\n",
    "%matplotlib inline\n",
    "\n",
    "# Imports\n",
    "import re\n",
    "import warnings\n",
    "\n",
    "import matplotlib.pyplot as plt\n",
    "import numpy as np\n",
    "import pandas as pd\n",
    "from bs4 import BeautifulSoup\n",
    "from IPython.display import display\n",
    "from sklearn.model_selection import cross_validate\n",
    "from sklearn.feature_extraction.text import TfidfVectorizer\n",
    "#from sklearn.grid_search import GridSearchCV\n",
    "from sklearn.linear_model import LogisticRegression, SGDClassifier\n",
    "from sklearn.metrics import (accuracy_score, classification_report,\n",
    "                             confusion_matrix, f1_score)\n",
    "from sklearn.naive_bayes import MultinomialNB\n",
    "from wordcloud import STOPWORDS, WordCloud\n",
    "from sklearn.model_selection import GridSearchCV\n",
    "from sklearn.model_selection import train_test_split"
   ]
  },
  {
   "cell_type": "code",
   "execution_count": null,
   "metadata": {},
   "outputs": [],
   "source": []
  },
  {
   "cell_type": "code",
   "execution_count": null,
   "metadata": {},
   "outputs": [
    {
     "ename": "",
     "evalue": "",
     "output_type": "error",
     "traceback": [
      "\u001b[1;31mRunning cells with 'Python 3.9.4 64-bit' requires ipykernel package.\n",
      "Run the following command to install 'ipykernel' into the Python environment. \n",
      "Command: 'c:/Users/Deekshitulu/AppData/Local/Programs/Python/Python39/python.exe -m pip install ipykernel -U --user --force-reinstall'"
     ]
    }
   ],
   "source": []
  },
  {
   "cell_type": "markdown",
   "metadata": {},
   "source": [
    "## Helper functions"
   ]
  },
  {
   "cell_type": "code",
   "execution_count": null,
   "metadata": {},
   "outputs": [],
   "source": [
    "# http://stackoverflow.com/questions/33181846/programmatically-convert-pandas-dataframe-to-markdown-table\n",
    "# This function converts a pandas dataframe to a markdown table.\n",
    "def pandas_df_to_markdown_table(df):\n",
    "    fmt = ['---' for i in range(len(df.columns))]\n",
    "    df_fmt = pd.DataFrame([fmt], columns=df.columns)\n",
    "    df_formatted = pd.concat([df_fmt, df])\n",
    "    return \"|\" + df_formatted.to_csv(line_terminator=\"|\\n|\", sep=\"|\", index=False)[:-2]"
   ]
  },
  {
   "cell_type": "markdown",
   "metadata": {},
   "source": [
    "## Read in data"
   ]
  },
  {
   "cell_type": "code",
   "execution_count": 3,
   "metadata": {},
   "outputs": [
    {
     "name": "stdout",
     "output_type": "stream",
     "text": [
      "411053 Amazon mobile phone reviews with 2 features each.\n"
     ]
    },
    {
     "name": "stderr",
     "output_type": "stream",
     "text": [
      "C:\\Users\\Deekshitulu\\anaconda3\\lib\\site-packages\\IPython\\core\\interactiveshell.py:3444: DtypeWarning: Columns (0,1,4) have mixed types.Specify dtype option on import or set low_memory=False.\n",
      "  exec(code_obj, self.user_global_ns, self.user_ns)\n"
     ]
    }
   ],
   "source": [
    "# Load he data and drop columns we don't care about.\n",
    "try:\n",
    "    data = pd.read_csv(\"Amazon_Unlocked_Mobile.csv\")\n",
    "    data.drop(['Product Name', 'Brand Name','Price','Review Votes'], axis = 1, inplace = True)\n",
    "    print (\"{} Amazon mobile phone reviews with {} features each.\".format(*data.shape))\n",
    "except:\n",
    "    print (\"You need to download the dataset from https://www.kaggle.com/PromptCloudHQ/amazon-reviews-unlocked-mobile-phones\")"
   ]
  },
  {
   "cell_type": "markdown",
   "metadata": {},
   "source": [
    "## Clean Data"
   ]
  },
  {
   "cell_type": "code",
   "execution_count": 4,
   "metadata": {},
   "outputs": [],
   "source": [
    "def clean_text(string): \n",
    "    # Turn warnings off because BeautifulSoup give some we don't care about\n",
    "    warnings.filterwarnings('ignore')\n",
    "    \n",
    "    # Remove xml formatting.\n",
    "    review_text = BeautifulSoup(string, \"lxml\").get_text() \n",
    "    \n",
    "    # Turn warnings back on\n",
    "    warnings.resetwarnings()\n",
    "    \n",
    "    # Remove all characters not in the English alphabet\n",
    "    string = re.sub(\"[^a-zA-Z]\",\" \", string)\n",
    "    \n",
    "    # Set all characters to lower case.\n",
    "    string = string.lower()\n",
    "    \n",
    "    return string"
   ]
  },
  {
   "cell_type": "code",
   "execution_count": 7,
   "metadata": {},
   "outputs": [
    {
     "name": "stdout",
     "output_type": "stream",
     "text": [
      "0    I feel so LUCKY to have found this used (phone...\n",
      "1    nice phone, nice up grade from my pantach revu...\n",
      "2                                         Very pleased\n",
      "3    It works good but it goes slow sometimes but i...\n",
      "4    Great phone to replace my lost phone. The only...\n",
      "5    I already had a phone with problems... I know ...\n",
      "6    The charging port was loose. I got that solder...\n",
      "7    Phone looks good but wouldn't stay charged, ha...\n",
      "8    I originally was using the Samsung S2 Galaxy f...\n",
      "9    It's battery life is great. It's very responsi...\n",
      "Name: Reviews, dtype: object\n"
     ]
    }
   ],
   "source": [
    "# Sometimes people leave ratings without reviews. We are going to ignore empty reviews.\n",
    "data = data[data['Reviews'].isnull()==False]\n",
    "\n",
    "# Get the ratings column.\n",
    "ratings = data['Rating']\n",
    "\n",
    "# Get the reviews column, and clean the reviews.\n",
    "reviews = map(clean_text, data['Reviews'])\n",
    "print(data['Reviews'][0:10])"
   ]
  },
  {
   "cell_type": "markdown",
   "metadata": {},
   "source": [
    "## Explore Data"
   ]
  },
  {
   "cell_type": "code",
   "execution_count": 5,
   "metadata": {},
   "outputs": [
    {
     "data": {
      "text/plain": [
       "Text(0, 0.5, 'Count')"
      ]
     },
     "execution_count": 5,
     "metadata": {},
     "output_type": "execute_result"
    },
    {
     "data": {
      "image/png": "[encoded data removed]",
      "text/plain": [
       "<Figure size 432x288 with 1 Axes>"
      ]
     },
     "metadata": {
      "needs_background": "light"
     },
     "output_type": "display_data"
    }
   ],
   "source": [
    "\n",
    "warnings.filterwarnings('ignore', category=DeprecationWarning, message='.*use @default decorator instead.*')\n",
    "\n",
    "# Create and print a rating distribution graph.\n",
    "rating_distribution_plt = data.groupby(['Rating']).count().plot(kind='bar', legend=None, title=\"Rating Distribution\")\n",
    "rating_distribution_plt.set_xlabel(\"Rating\")\n",
    "rating_distribution_plt.set_ylabel(\"Count\")"
   ]
  },
  {
   "cell_type": "code",
   "execution_count": 9,
   "metadata": {},
   "outputs": [
    {
     "data": {
      "text/plain": [
       "Text(0, 0.5, 'Count')"
      ]
     },
     "execution_count": 9,
     "metadata": {},
     "output_type": "execute_result"
    },
    {
     "data": {
      "image/png": "[encoded data removed]",
      "text/plain": [
       "<Figure size 864x432 with 1 Axes>"
      ]
     },
     "metadata": {
      "needs_background": "light"
     },
     "output_type": "display_data"
    }
   ],
   "source": [
    "# Create and print a Reviews length distribution graph.\n",
    "review_length_distribution_plt = pd.DataFrame(data[\"Reviews\"].str.len())\n",
    "review_length_distribution_plt = review_length_distribution_plt[review_length_distribution_plt.Reviews < 5000]\n",
    "review_length_distribution_plt.groupby([\"Reviews\"])\n",
    "review_length_distribution_plt = review_length_distribution_plt.plot(kind='hist', \n",
    "                                                                     legend=None, \n",
    "                                                                     bins=50, \n",
    "                                                                     figsize=(12, 6))\n",
    "review_length_distribution_plt.set_xlabel(\"Review Length\")\n",
    "review_length_distribution_plt.set_ylabel(\"Count\")\n"
   ]
  },
  {
   "cell_type": "markdown",
   "metadata": {},
   "source": [
    "## Feature Extraction"
   ]
  },
  {
   "cell_type": "code",
   "execution_count": 10,
   "metadata": {},
   "outputs": [],
   "source": [
    "vectorizer = TfidfVectorizer(\n",
    "        min_df=2,               # Ignore phrases that are in fewer than 2 reviews\n",
    "        max_df=0.95,            # Ignore phrases that are in 95% of reviews\n",
    "        ngram_range = (1,4),    # Take phrases between 1 and 4 words\n",
    "        stop_words = 'english', # Remove common English words\n",
    "        # max_features = 300    # The max features amount of features. Set this to \n",
    "                                # something small when getting most relevant phrases to \n",
    "                                # prevent crases (We have to do some array conversions which \n",
    "                                # take a lot of memory)\n",
    "        )\n",
    "\n",
    "# Extract features from reviews.\n",
    "review_features = vectorizer.fit_transform(reviews)"
   ]
  },
  {
   "cell_type": "markdown",
   "metadata": {},
   "source": [
    "### Get most relevant  phrases"
   ]
  },
  {
   "cell_type": "code",
   "execution_count": 11,
   "metadata": {},
   "outputs": [],
   "source": [
    "def get_most_relevant_phrases():\n",
    "    # Convert features into an array\n",
    "    feature_array = np.array(vectorizer.get_feature_names()) \n",
    "    \n",
    "    # Sort features by weight.\n",
    "    tfidf_sorting = np.argsort(review_features.toarray()).flatten()[::-1]\n",
    "    \n",
    "    # Get the top eight most weighted features.\n",
    "    top_n = feature_array[tfidf_sorting][:8]\n",
    "    return top_n"
   ]
  },
  {
   "cell_type": "code",
   "execution_count": 12,
   "metadata": {},
   "outputs": [],
   "source": [
    "# It's important not to run this unless you set max_features in TfidfVectorizer to something small. \n",
    "# The array conversions can take a lot of memory.\n",
    "# print get_most_relevant_phrases()"
   ]
  },
  {
   "cell_type": "markdown",
   "metadata": {},
   "source": [
    "## Train/Test Split"
   ]
  },
  {
   "cell_type": "code",
   "execution_count": null,
   "metadata": {},
   "outputs": [],
   "source": [
    "X_train, X_test, y_train, y_test = train_test_split(\n",
    "                                            review_features,   # The features we created from the reviews\n",
    "                                            ratings,           # The ratings we are trying to predict\n",
    "                                            stratify=ratings,  # We have an imbalance of 5-star reviews, so let's stratify\n",
    "                                            random_state = 12, # Random seed\n",
    "                                            test_size = 0.3    # We need to save 30% of the data for testing\n",
    "                                            )\n",
    "print( X_train.shape)"
   ]
  },
  {
   "cell_type": "markdown",
   "metadata": {},
   "source": [
    "### Benchmark model"
   ]
  },
  {
   "cell_type": "markdown",
   "metadata": {},
   "source": [
    "For the benchmark, we are not going to do any parameter tuning; we are going to use sklearns default parameters. As we will see, logistic regression does fairly well right out of the box."
   ]
  },
  {
   "cell_type": "code",
   "execution_count": null,
   "metadata": {},
   "outputs": [],
   "source": [
    "clf_benchmark = LogisticRegression(random_state=22).fit(X_train, y_train)\n",
    "example_review_set = pd.DataFrame(y_test[191:197].index).join(data, on=0)\n",
    "print (pandas_df_to_markdown_table(example_review_set[['Rating','Reviews']]))\n",
    "#reviewsq = map(clean_text, data['Reviews'][0:10])\n",
    "#inputereview = vectorizer.fit_transform(reviewsq)\n",
    "\n",
    "#print(clf_benchmark.predict(inputereview))\n",
    "#print( classification_report(y_test, clf_benchmark.predict(X_test), digits=4))"
   ]
  },
  {
   "cell_type": "markdown",
   "metadata": {},
   "source": [
    "### Other models "
   ]
  },
  {
   "cell_type": "markdown",
   "metadata": {},
   "source": [
    "Create an unoptimized MultinomialNB classifier."
   ]
  },
  {
   "cell_type": "code",
   "execution_count": null,
   "metadata": {},
   "outputs": [],
   "source": [
    "clf_NB = MultinomialNB()\n",
    "clf_NB.fit(X_train, y_train)\n",
    "print( classification_report(y_test, clf_NB.predict(X_test), digits=4))"
   ]
  },
  {
   "cell_type": "markdown",
   "metadata": {},
   "source": [
    "Create an unoptimized SGDClassifier classifier."
   ]
  },
  {
   "cell_type": "code",
   "execution_count": 1,
   "metadata": {},
   "outputs": [
    {
     "ename": "NameError",
     "evalue": "name 'SGDClassifier' is not defined",
     "output_type": "error",
     "traceback": [
      "\u001b[1;31m---------------------------------------------------------------------------\u001b[0m",
      "\u001b[1;31mNameError\u001b[0m                                 Traceback (most recent call last)",
      "\u001b[1;32mC:\\Users\\DEEKSH~1\\AppData\\Local\\Temp/ipykernel_4368/3656376636.py\u001b[0m in \u001b[0;36m<module>\u001b[1;34m\u001b[0m\n\u001b[1;32m----> 1\u001b[1;33m \u001b[0mclf_SGD\u001b[0m \u001b[1;33m=\u001b[0m \u001b[0mSGDClassifier\u001b[0m\u001b[1;33m(\u001b[0m\u001b[0mrandom_state\u001b[0m\u001b[1;33m=\u001b[0m\u001b[1;36m22\u001b[0m\u001b[1;33m)\u001b[0m\u001b[1;33m\u001b[0m\u001b[1;33m\u001b[0m\u001b[0m\n\u001b[0m\u001b[0;32m      2\u001b[0m \u001b[0mclf_SGD\u001b[0m\u001b[1;33m.\u001b[0m\u001b[0mfit\u001b[0m\u001b[1;33m(\u001b[0m\u001b[0mX_train\u001b[0m\u001b[1;33m,\u001b[0m \u001b[0my_train\u001b[0m\u001b[1;33m)\u001b[0m\u001b[1;33m\u001b[0m\u001b[1;33m\u001b[0m\u001b[0m\n\u001b[0;32m      3\u001b[0m \u001b[0mprint\u001b[0m\u001b[1;33m(\u001b[0m \u001b[0mclassification_report\u001b[0m\u001b[1;33m(\u001b[0m\u001b[0my_test\u001b[0m\u001b[1;33m,\u001b[0m \u001b[0mclf_SGD\u001b[0m\u001b[1;33m.\u001b[0m\u001b[0mpredict\u001b[0m\u001b[1;33m(\u001b[0m\u001b[0mX_test\u001b[0m\u001b[1;33m)\u001b[0m\u001b[1;33m,\u001b[0m \u001b[0mdigits\u001b[0m\u001b[1;33m=\u001b[0m\u001b[1;36m4\u001b[0m\u001b[1;33m)\u001b[0m\u001b[1;33m)\u001b[0m\u001b[1;33m\u001b[0m\u001b[1;33m\u001b[0m\u001b[0m\n",
      "\u001b[1;31mNameError\u001b[0m: name 'SGDClassifier' is not defined"
     ]
    }
   ],
   "source": [
    "clf_SGD = SGDClassifier(random_state=22)\n",
    "clf_SGD.fit(X_train, y_train)\n",
    "print( classification_report(y_test, clf_SGD.predict(X_test), digits=4))"
   ]
  },
  {
   "cell_type": "markdown",
   "metadata": {},
   "source": [
    "### Refinement "
   ]
  },
  {
   "cell_type": "markdown",
   "metadata": {},
   "source": [
    "The alpha paramter determines what value we give the when we see a feature that we haven’t encountered in the testing data. We can’t use 0 because MultinomialNB multiplies these probabilities together and our whole prediction becomes 0. For example, if we find a 5-star review with a single word that we’ve never seen in a 5-star review before we don’t want our prediction to be 0."
   ]
  },
  {
   "cell_type": "code",
   "execution_count": null,
   "metadata": {},
   "outputs": [],
   "source": []
  },
  {
   "cell_type": "code",
   "execution_count": null,
   "metadata": {},
   "outputs": [],
   "source": []
  },
  {
   "cell_type": "code",
   "execution_count": null,
   "metadata": {},
   "outputs": [],
   "source": []
  },
  {
   "cell_type": "code",
   "execution_count": null,
   "metadata": {},
   "outputs": [],
   "source": []
  }
 ],
 "metadata": {
  "anaconda-cloud": {},
  "kernelspec": {
   "display_name": "Python 3 (ipykernel)",
   "language": "python",
   "name": "python3"
  },
  "language_info": {
   "codemirror_mode": {
    "name": "ipython",
    "version": 3
   },
   "file_extension": ".py",
   "mimetype": "text/x-python",
   "name": "python",
   "nbconvert_exporter": "python",
   "pygments_lexer": "ipython3",
   "version": "3.9.7"
  },
  "vscode": {
   "interpreter": {
    "hash": "e2a28eb2ca5f85e7679a2407138fd6d0e061418b3a7c4f1de071ce777e6bfc75"
   }
  }
 },
 "nbformat": 4,
 "nbformat_minor": 1
}
